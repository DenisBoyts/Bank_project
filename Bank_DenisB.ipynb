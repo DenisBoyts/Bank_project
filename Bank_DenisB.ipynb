{
 "cells": [
  {
   "cell_type": "markdown",
   "metadata": {},
   "source": [
    "<div class=\"alert alert-block alert-info\">\n",
    "<b>Банки — Анализ оттока клиентов</b> \n",
    "    "
   ]
  },
  {
   "cell_type": "markdown",
   "metadata": {},
   "source": [
    "<div class=\"alert alert-block alert-info\">\n",
    "<b>Декомпозиция</b> \n",
    "\n",
    "0.\tВведение\n",
    "- Цель проекта\n",
    "- Описание данных\n",
    "1. Загрузка данных и обзор датафрейма\n",
    "- Подключение библиотек\n",
    "- Чтение файла\n",
    "- Вывод 5 слуйчайных строк, инф. о типах данных, размер датасета, кол-во пропусков в столбцах, кол-ов дубликатов, проверка о состоянии данных\n",
    "2. Предобработка данных\n",
    "- Если есть пропуски, дубликаты, то необходимо оценить и принять решение о их дальнешейм преобразовании\n",
    "- Преобразование названий и типов данных столбцов\n",
    "- Создание дополнительных столбцов с объединяющими признаками\n",
    "3. Исследовательский анализ данных\n",
    "- Создание гистограмм по численным значениям\n",
    "- Создание столбчатых диаграм плотности для булевых значений\n",
    "- Матрица корреляции\n",
    "4. Сегментация пользователей и проверка гипотез\n",
    "- Сегментация по признаку estimated_values, Balance, Products\n",
    "- Проверка статистических гипотез\n",
    "- Если будут заметны другие признаки для сегментации, то необходимо расширить анализ\n",
    "5. Выводы и Рекомендации\n",
    "- Выявить основные признаки, которые влияют на отток. \n",
    "- Сделать рекомендации, на что стоит обратить внимание сотрудникам банка \n",
    "6. Дашборд\n",
    "7. Презентация\n"
   ]
  },
  {
   "cell_type": "markdown",
   "metadata": {},
   "source": [
    "<div class=\"alert alert-block alert-info\">\n",
    "<b>0. Введение</b> \n",
    "    \n",
    "В данном проекте будут проанализированы клиенты регионального банка «Метанпромбанк» и составлен портрет клиентов, которые склонны уходить из банка.\n",
    "    \n",
    "    \n",
    "Описание данных:\n",
    "Датасет содержит данные о клиентах банка «Метанпром». Банк располагается в Ярославле и областных городах: Ростов Великий и Рыбинск.  \n",
    "    \n",
    "    \n",
    "Колонки:  \n",
    "    \n",
    "•\tuserid — идентификатор пользователя,  \n",
    "    \n",
    "•\tscore — баллы кредитного скоринга,  \n",
    "    \n",
    "•\tCity — город,  \n",
    "    \n",
    "•\tGender — пол,  \n",
    "    \n",
    "•\tAge — возраст,  \n",
    "    \n",
    "•\tObjects — количество объектов в собственности,  \n",
    "    \n",
    "•\tBalance — баланс на счёте,  \n",
    "    \n",
    "•\tProducts — количество продуктов, которыми пользуется клиент,  \n",
    "    \n",
    "•\tCreditCard — есть ли кредитная карта,  \n",
    "    \n",
    "•\tLoyalty — активный клиент,  \n",
    "    \n",
    "•\testimated_salary — заработная плата клиента,  \n",
    "    \n",
    "•\tChurn — ушёл или нет.  \n",
    "    \n",
    "</div>"
   ]
  },
  {
   "cell_type": "markdown",
   "metadata": {},
   "source": [
    "<div class=\"alert alert-block alert-info\">\n",
    "<b>1. Загрузка данных и обзор датафрейма</b> "
   ]
  },
  {
   "cell_type": "code",
   "execution_count": 1,
   "metadata": {},
   "outputs": [],
   "source": [
    "#добавление библиотек\n",
    "import pandas as pd\n",
    "import numpy as np\n",
    "import seaborn as sns\n",
    "import datetime as dt\n",
    "from matplotlib import pyplot as plt\n",
    "import scipy.stats as st\n",
    "import warnings \n",
    "warnings.filterwarnings('ignore')\n",
    "import math as mth\n",
    "from sklearn.model_selection import train_test_split\n",
    "from sklearn.preprocessing import StandardScaler\n",
    "from sklearn.cluster import KMeans\n",
    "from scipy.cluster.hierarchy import dendrogram, linkage\n",
    "\n",
    "\n",
    "pd.set_option('display.max_rows', None)\n",
    "pd.set_option('display.max_columns', None)\n",
    "pd.set_option('display.max_colwidth', -1)"
   ]
  },
  {
   "cell_type": "code",
   "execution_count": 2,
   "metadata": {},
   "outputs": [],
   "source": [
    "#чтение датафрейма\n",
    "data = pd.read_csv('bank_dataset.csv')"
   ]
  },
  {
   "cell_type": "code",
   "execution_count": 3,
   "metadata": {},
   "outputs": [
    {
     "name": "stdout",
     "output_type": "stream",
     "text": [
      "\u001b[1m Случайные 5 строк таблицы: \u001b[0m\n"
     ]
    },
    {
     "data": {
      "text/html": [
       "<div>\n",
       "<style scoped>\n",
       "    .dataframe tbody tr th:only-of-type {\n",
       "        vertical-align: middle;\n",
       "    }\n",
       "\n",
       "    .dataframe tbody tr th {\n",
       "        vertical-align: top;\n",
       "    }\n",
       "\n",
       "    .dataframe thead th {\n",
       "        text-align: right;\n",
       "    }\n",
       "</style>\n",
       "<table border=\"1\" class=\"dataframe\">\n",
       "  <thead>\n",
       "    <tr style=\"text-align: right;\">\n",
       "      <th></th>\n",
       "      <th>userid</th>\n",
       "      <th>score</th>\n",
       "      <th>City</th>\n",
       "      <th>Gender</th>\n",
       "      <th>Age</th>\n",
       "      <th>Objects</th>\n",
       "      <th>Balance</th>\n",
       "      <th>Products</th>\n",
       "      <th>CreditCard</th>\n",
       "      <th>Loyalty</th>\n",
       "      <th>estimated_salary</th>\n",
       "      <th>Churn</th>\n",
       "    </tr>\n",
       "  </thead>\n",
       "  <tbody>\n",
       "    <tr>\n",
       "      <th>3693</th>\n",
       "      <td>15764982</td>\n",
       "      <td>742</td>\n",
       "      <td>Ярославль</td>\n",
       "      <td>Ж</td>\n",
       "      <td>60</td>\n",
       "      <td>4</td>\n",
       "      <td>NaN</td>\n",
       "      <td>1</td>\n",
       "      <td>1</td>\n",
       "      <td>1</td>\n",
       "      <td>13161.66</td>\n",
       "      <td>1</td>\n",
       "    </tr>\n",
       "    <tr>\n",
       "      <th>8166</th>\n",
       "      <td>15812519</td>\n",
       "      <td>542</td>\n",
       "      <td>Рыбинск</td>\n",
       "      <td>М</td>\n",
       "      <td>37</td>\n",
       "      <td>8</td>\n",
       "      <td>NaN</td>\n",
       "      <td>1</td>\n",
       "      <td>1</td>\n",
       "      <td>1</td>\n",
       "      <td>807.06</td>\n",
       "      <td>0</td>\n",
       "    </tr>\n",
       "    <tr>\n",
       "      <th>9509</th>\n",
       "      <td>15652540</td>\n",
       "      <td>688</td>\n",
       "      <td>Ярославль</td>\n",
       "      <td>М</td>\n",
       "      <td>29</td>\n",
       "      <td>1</td>\n",
       "      <td>NaN</td>\n",
       "      <td>2</td>\n",
       "      <td>1</td>\n",
       "      <td>0</td>\n",
       "      <td>154695.57</td>\n",
       "      <td>0</td>\n",
       "    </tr>\n",
       "    <tr>\n",
       "      <th>2693</th>\n",
       "      <td>15670433</td>\n",
       "      <td>662</td>\n",
       "      <td>Ярославль</td>\n",
       "      <td>М</td>\n",
       "      <td>34</td>\n",
       "      <td>2</td>\n",
       "      <td>NaN</td>\n",
       "      <td>2</td>\n",
       "      <td>0</td>\n",
       "      <td>1</td>\n",
       "      <td>21497.27</td>\n",
       "      <td>0</td>\n",
       "    </tr>\n",
       "    <tr>\n",
       "      <th>4095</th>\n",
       "      <td>15659665</td>\n",
       "      <td>730</td>\n",
       "      <td>Рыбинск</td>\n",
       "      <td>М</td>\n",
       "      <td>62</td>\n",
       "      <td>5</td>\n",
       "      <td>112181.08</td>\n",
       "      <td>1</td>\n",
       "      <td>0</td>\n",
       "      <td>1</td>\n",
       "      <td>61513.87</td>\n",
       "      <td>0</td>\n",
       "    </tr>\n",
       "  </tbody>\n",
       "</table>\n",
       "</div>"
      ],
      "text/plain": [
       "        userid  score       City Gender  Age  Objects    Balance  Products  \\\n",
       "3693  15764982  742    Ярославль  Ж      60   4       NaN         1          \n",
       "8166  15812519  542    Рыбинск    М      37   8       NaN         1          \n",
       "9509  15652540  688    Ярославль  М      29   1       NaN         2          \n",
       "2693  15670433  662    Ярославль  М      34   2       NaN         2          \n",
       "4095  15659665  730    Рыбинск    М      62   5        112181.08  1          \n",
       "\n",
       "      CreditCard  Loyalty  estimated_salary  Churn  \n",
       "3693  1           1        13161.66          1      \n",
       "8166  1           1        807.06            0      \n",
       "9509  1           0        154695.57         0      \n",
       "2693  0           1        21497.27          0      \n",
       "4095  0           1        61513.87          0      "
      ]
     },
     "metadata": {},
     "output_type": "display_data"
    },
    {
     "name": "stdout",
     "output_type": "stream",
     "text": [
      "\u001b[1m Информация о типах данных:\n",
      " \u001b[0m\n",
      "<class 'pandas.core.frame.DataFrame'>\n",
      "RangeIndex: 10000 entries, 0 to 9999\n",
      "Data columns (total 12 columns):\n",
      " #   Column            Non-Null Count  Dtype  \n",
      "---  ------            --------------  -----  \n",
      " 0   userid            10000 non-null  int64  \n",
      " 1   score             10000 non-null  int64  \n",
      " 2   City              10000 non-null  object \n",
      " 3   Gender            10000 non-null  object \n",
      " 4   Age               10000 non-null  int64  \n",
      " 5   Objects           10000 non-null  int64  \n",
      " 6   Balance           6383 non-null   float64\n",
      " 7   Products          10000 non-null  int64  \n",
      " 8   CreditCard        10000 non-null  int64  \n",
      " 9   Loyalty           10000 non-null  int64  \n",
      " 10  estimated_salary  10000 non-null  float64\n",
      " 11  Churn             10000 non-null  int64  \n",
      "dtypes: float64(2), int64(8), object(2)\n",
      "memory usage: 937.6+ KB\n",
      "\u001b[1m \n",
      "Размер датасета:\n",
      " \u001b[0m\n"
     ]
    },
    {
     "data": {
      "text/plain": [
       "(10000, 12)"
      ]
     },
     "metadata": {},
     "output_type": "display_data"
    },
    {
     "name": "stdout",
     "output_type": "stream",
     "text": [
      "\u001b[1m Количество пропусков в столбцах:\n",
      " \u001b[0m\n"
     ]
    },
    {
     "data": {
      "text/plain": [
       "userid              0   \n",
       "score               0   \n",
       "City                0   \n",
       "Gender              0   \n",
       "Age                 0   \n",
       "Objects             0   \n",
       "Balance             3617\n",
       "Products            0   \n",
       "CreditCard          0   \n",
       "Loyalty             0   \n",
       "estimated_salary    0   \n",
       "Churn               0   \n",
       "dtype: int64"
      ]
     },
     "metadata": {},
     "output_type": "display_data"
    },
    {
     "name": "stdout",
     "output_type": "stream",
     "text": [
      "\u001b[1m \n",
      "Количество дубликатов: \u001b[0m\n"
     ]
    },
    {
     "data": {
      "text/plain": [
       "0"
      ]
     },
     "metadata": {},
     "output_type": "display_data"
    },
    {
     "name": "stdout",
     "output_type": "stream",
     "text": [
      "\u001b[1m \n",
      "Проверка о состоянии данных. Метод describe(): \u001b[0m\n"
     ]
    },
    {
     "data": {
      "text/html": [
       "<div>\n",
       "<style scoped>\n",
       "    .dataframe tbody tr th:only-of-type {\n",
       "        vertical-align: middle;\n",
       "    }\n",
       "\n",
       "    .dataframe tbody tr th {\n",
       "        vertical-align: top;\n",
       "    }\n",
       "\n",
       "    .dataframe thead th {\n",
       "        text-align: right;\n",
       "    }\n",
       "</style>\n",
       "<table border=\"1\" class=\"dataframe\">\n",
       "  <thead>\n",
       "    <tr style=\"text-align: right;\">\n",
       "      <th></th>\n",
       "      <th>userid</th>\n",
       "      <th>score</th>\n",
       "      <th>Age</th>\n",
       "      <th>Objects</th>\n",
       "      <th>Balance</th>\n",
       "      <th>Products</th>\n",
       "      <th>CreditCard</th>\n",
       "      <th>Loyalty</th>\n",
       "      <th>estimated_salary</th>\n",
       "      <th>Churn</th>\n",
       "    </tr>\n",
       "  </thead>\n",
       "  <tbody>\n",
       "    <tr>\n",
       "      <th>count</th>\n",
       "      <td>1.000000e+04</td>\n",
       "      <td>10000.000000</td>\n",
       "      <td>10000.000000</td>\n",
       "      <td>10000.000000</td>\n",
       "      <td>6383.000000</td>\n",
       "      <td>10000.000000</td>\n",
       "      <td>10000.00000</td>\n",
       "      <td>10000.000000</td>\n",
       "      <td>10000.000000</td>\n",
       "      <td>10000.000000</td>\n",
       "    </tr>\n",
       "    <tr>\n",
       "      <th>mean</th>\n",
       "      <td>1.573368e+07</td>\n",
       "      <td>650.528800</td>\n",
       "      <td>38.921800</td>\n",
       "      <td>5.012800</td>\n",
       "      <td>119827.493793</td>\n",
       "      <td>1.530200</td>\n",
       "      <td>0.70550</td>\n",
       "      <td>0.515100</td>\n",
       "      <td>100090.239881</td>\n",
       "      <td>0.203700</td>\n",
       "    </tr>\n",
       "    <tr>\n",
       "      <th>std</th>\n",
       "      <td>7.193619e+04</td>\n",
       "      <td>96.653299</td>\n",
       "      <td>10.487806</td>\n",
       "      <td>2.892174</td>\n",
       "      <td>30095.056462</td>\n",
       "      <td>0.581654</td>\n",
       "      <td>0.45584</td>\n",
       "      <td>0.499797</td>\n",
       "      <td>57510.492818</td>\n",
       "      <td>0.402769</td>\n",
       "    </tr>\n",
       "    <tr>\n",
       "      <th>min</th>\n",
       "      <td>1.560844e+07</td>\n",
       "      <td>350.000000</td>\n",
       "      <td>18.000000</td>\n",
       "      <td>0.000000</td>\n",
       "      <td>3768.690000</td>\n",
       "      <td>1.000000</td>\n",
       "      <td>0.00000</td>\n",
       "      <td>0.000000</td>\n",
       "      <td>11.580000</td>\n",
       "      <td>0.000000</td>\n",
       "    </tr>\n",
       "    <tr>\n",
       "      <th>25%</th>\n",
       "      <td>1.567126e+07</td>\n",
       "      <td>584.000000</td>\n",
       "      <td>32.000000</td>\n",
       "      <td>3.000000</td>\n",
       "      <td>100181.975000</td>\n",
       "      <td>1.000000</td>\n",
       "      <td>0.00000</td>\n",
       "      <td>0.000000</td>\n",
       "      <td>51002.110000</td>\n",
       "      <td>0.000000</td>\n",
       "    </tr>\n",
       "    <tr>\n",
       "      <th>50%</th>\n",
       "      <td>1.573347e+07</td>\n",
       "      <td>652.000000</td>\n",
       "      <td>37.000000</td>\n",
       "      <td>5.000000</td>\n",
       "      <td>119839.690000</td>\n",
       "      <td>1.000000</td>\n",
       "      <td>1.00000</td>\n",
       "      <td>1.000000</td>\n",
       "      <td>100193.915000</td>\n",
       "      <td>0.000000</td>\n",
       "    </tr>\n",
       "    <tr>\n",
       "      <th>75%</th>\n",
       "      <td>1.579597e+07</td>\n",
       "      <td>718.000000</td>\n",
       "      <td>44.000000</td>\n",
       "      <td>7.000000</td>\n",
       "      <td>139512.290000</td>\n",
       "      <td>2.000000</td>\n",
       "      <td>1.00000</td>\n",
       "      <td>1.000000</td>\n",
       "      <td>149388.247500</td>\n",
       "      <td>0.000000</td>\n",
       "    </tr>\n",
       "    <tr>\n",
       "      <th>max</th>\n",
       "      <td>1.585843e+07</td>\n",
       "      <td>850.000000</td>\n",
       "      <td>92.000000</td>\n",
       "      <td>10.000000</td>\n",
       "      <td>250898.090000</td>\n",
       "      <td>4.000000</td>\n",
       "      <td>1.00000</td>\n",
       "      <td>1.000000</td>\n",
       "      <td>199992.480000</td>\n",
       "      <td>1.000000</td>\n",
       "    </tr>\n",
       "  </tbody>\n",
       "</table>\n",
       "</div>"
      ],
      "text/plain": [
       "             userid         score           Age       Objects        Balance  \\\n",
       "count  1.000000e+04  10000.000000  10000.000000  10000.000000  6383.000000     \n",
       "mean   1.573368e+07  650.528800    38.921800     5.012800      119827.493793   \n",
       "std    7.193619e+04  96.653299     10.487806     2.892174      30095.056462    \n",
       "min    1.560844e+07  350.000000    18.000000     0.000000      3768.690000     \n",
       "25%    1.567126e+07  584.000000    32.000000     3.000000      100181.975000   \n",
       "50%    1.573347e+07  652.000000    37.000000     5.000000      119839.690000   \n",
       "75%    1.579597e+07  718.000000    44.000000     7.000000      139512.290000   \n",
       "max    1.585843e+07  850.000000    92.000000     10.000000     250898.090000   \n",
       "\n",
       "           Products   CreditCard       Loyalty  estimated_salary         Churn  \n",
       "count  10000.000000  10000.00000  10000.000000  10000.000000      10000.000000  \n",
       "mean   1.530200      0.70550      0.515100      100090.239881     0.203700      \n",
       "std    0.581654      0.45584      0.499797      57510.492818      0.402769      \n",
       "min    1.000000      0.00000      0.000000      11.580000         0.000000      \n",
       "25%    1.000000      0.00000      0.000000      51002.110000      0.000000      \n",
       "50%    1.000000      1.00000      1.000000      100193.915000     0.000000      \n",
       "75%    2.000000      1.00000      1.000000      149388.247500     0.000000      \n",
       "max    4.000000      1.00000      1.000000      199992.480000     1.000000      "
      ]
     },
     "metadata": {},
     "output_type": "display_data"
    }
   ],
   "source": [
    "def check_dataset(dataset):\n",
    "    try:\n",
    "            print('\\033[1m','Случайные 5 строк таблицы:','\\033[0m')\n",
    "            display(dataset.sample(5))\n",
    "            print('\\033[1m','Информация о типах данных:\\n', '\\033[0m')\n",
    "            dataset.info()\n",
    "            print('\\033[1m','\\nРазмер датасета:\\n', '\\033[0m')\n",
    "            display(dataset.shape)\n",
    "            print('\\033[1m', 'Количество пропусков в столбцах:\\n', '\\033[0m')\n",
    "            display(dataset.isna().sum())\n",
    "            print('\\033[1m', '\\nКоличество дубликатов:', '\\033[0m'), \n",
    "            display(dataset.duplicated().sum()) \n",
    "            print('\\033[1m', '\\nПроверка о состоянии данных. Метод describe():', '\\033[0m'), \n",
    "            display(dataset.describe())\n",
    "    except:\n",
    "            print('Ошибка')\n",
    "\n",
    "check_dataset(data)"
   ]
  },
  {
   "cell_type": "code",
   "execution_count": 4,
   "metadata": {},
   "outputs": [
    {
     "data": {
      "text/html": [
       "<div>\n",
       "<style scoped>\n",
       "    .dataframe tbody tr th:only-of-type {\n",
       "        vertical-align: middle;\n",
       "    }\n",
       "\n",
       "    .dataframe tbody tr th {\n",
       "        vertical-align: top;\n",
       "    }\n",
       "\n",
       "    .dataframe thead th {\n",
       "        text-align: right;\n",
       "    }\n",
       "</style>\n",
       "<table border=\"1\" class=\"dataframe\">\n",
       "  <thead>\n",
       "    <tr style=\"text-align: right;\">\n",
       "      <th></th>\n",
       "      <th>userid</th>\n",
       "      <th>score</th>\n",
       "      <th>City</th>\n",
       "      <th>Gender</th>\n",
       "      <th>Age</th>\n",
       "      <th>Objects</th>\n",
       "      <th>Balance</th>\n",
       "      <th>Products</th>\n",
       "      <th>CreditCard</th>\n",
       "      <th>Loyalty</th>\n",
       "      <th>estimated_salary</th>\n",
       "      <th>Churn</th>\n",
       "    </tr>\n",
       "  </thead>\n",
       "  <tbody>\n",
       "    <tr>\n",
       "      <th>0</th>\n",
       "      <td>15677338</td>\n",
       "      <td>619</td>\n",
       "      <td>Ярославль</td>\n",
       "      <td>Ж</td>\n",
       "      <td>42</td>\n",
       "      <td>2</td>\n",
       "      <td>NaN</td>\n",
       "      <td>1</td>\n",
       "      <td>1</td>\n",
       "      <td>1</td>\n",
       "      <td>101348.88</td>\n",
       "      <td>1</td>\n",
       "    </tr>\n",
       "    <tr>\n",
       "      <th>3</th>\n",
       "      <td>15744090</td>\n",
       "      <td>699</td>\n",
       "      <td>Ярославль</td>\n",
       "      <td>Ж</td>\n",
       "      <td>39</td>\n",
       "      <td>1</td>\n",
       "      <td>NaN</td>\n",
       "      <td>2</td>\n",
       "      <td>0</td>\n",
       "      <td>0</td>\n",
       "      <td>93826.63</td>\n",
       "      <td>0</td>\n",
       "    </tr>\n",
       "    <tr>\n",
       "      <th>6</th>\n",
       "      <td>15635267</td>\n",
       "      <td>822</td>\n",
       "      <td>Ярославль</td>\n",
       "      <td>М</td>\n",
       "      <td>50</td>\n",
       "      <td>7</td>\n",
       "      <td>NaN</td>\n",
       "      <td>2</td>\n",
       "      <td>1</td>\n",
       "      <td>1</td>\n",
       "      <td>10062.80</td>\n",
       "      <td>0</td>\n",
       "    </tr>\n",
       "    <tr>\n",
       "      <th>11</th>\n",
       "      <td>15779909</td>\n",
       "      <td>497</td>\n",
       "      <td>Рыбинск</td>\n",
       "      <td>М</td>\n",
       "      <td>24</td>\n",
       "      <td>3</td>\n",
       "      <td>NaN</td>\n",
       "      <td>2</td>\n",
       "      <td>1</td>\n",
       "      <td>0</td>\n",
       "      <td>76390.01</td>\n",
       "      <td>0</td>\n",
       "    </tr>\n",
       "    <tr>\n",
       "      <th>12</th>\n",
       "      <td>15675000</td>\n",
       "      <td>476</td>\n",
       "      <td>Ярославль</td>\n",
       "      <td>Ж</td>\n",
       "      <td>34</td>\n",
       "      <td>10</td>\n",
       "      <td>NaN</td>\n",
       "      <td>2</td>\n",
       "      <td>1</td>\n",
       "      <td>0</td>\n",
       "      <td>26260.98</td>\n",
       "      <td>0</td>\n",
       "    </tr>\n",
       "    <tr>\n",
       "      <th>13</th>\n",
       "      <td>15734219</td>\n",
       "      <td>549</td>\n",
       "      <td>Ярославль</td>\n",
       "      <td>Ж</td>\n",
       "      <td>25</td>\n",
       "      <td>5</td>\n",
       "      <td>NaN</td>\n",
       "      <td>2</td>\n",
       "      <td>0</td>\n",
       "      <td>0</td>\n",
       "      <td>190857.79</td>\n",
       "      <td>0</td>\n",
       "    </tr>\n",
       "    <tr>\n",
       "      <th>14</th>\n",
       "      <td>15643618</td>\n",
       "      <td>635</td>\n",
       "      <td>Рыбинск</td>\n",
       "      <td>Ж</td>\n",
       "      <td>35</td>\n",
       "      <td>7</td>\n",
       "      <td>NaN</td>\n",
       "      <td>2</td>\n",
       "      <td>1</td>\n",
       "      <td>1</td>\n",
       "      <td>65951.65</td>\n",
       "      <td>0</td>\n",
       "    </tr>\n",
       "    <tr>\n",
       "      <th>17</th>\n",
       "      <td>15830954</td>\n",
       "      <td>549</td>\n",
       "      <td>Рыбинск</td>\n",
       "      <td>Ж</td>\n",
       "      <td>24</td>\n",
       "      <td>9</td>\n",
       "      <td>NaN</td>\n",
       "      <td>2</td>\n",
       "      <td>1</td>\n",
       "      <td>1</td>\n",
       "      <td>14406.41</td>\n",
       "      <td>0</td>\n",
       "    </tr>\n",
       "    <tr>\n",
       "      <th>18</th>\n",
       "      <td>15704243</td>\n",
       "      <td>587</td>\n",
       "      <td>Рыбинск</td>\n",
       "      <td>М</td>\n",
       "      <td>45</td>\n",
       "      <td>6</td>\n",
       "      <td>NaN</td>\n",
       "      <td>1</td>\n",
       "      <td>0</td>\n",
       "      <td>0</td>\n",
       "      <td>158684.81</td>\n",
       "      <td>0</td>\n",
       "    </tr>\n",
       "    <tr>\n",
       "      <th>19</th>\n",
       "      <td>15611718</td>\n",
       "      <td>726</td>\n",
       "      <td>Ярославль</td>\n",
       "      <td>Ж</td>\n",
       "      <td>24</td>\n",
       "      <td>6</td>\n",
       "      <td>NaN</td>\n",
       "      <td>2</td>\n",
       "      <td>1</td>\n",
       "      <td>1</td>\n",
       "      <td>54724.03</td>\n",
       "      <td>0</td>\n",
       "    </tr>\n",
       "  </tbody>\n",
       "</table>\n",
       "</div>"
      ],
      "text/plain": [
       "      userid  score       City Gender  Age  Objects  Balance  Products  \\\n",
       "0   15677338  619    Ярославль  Ж      42   2       NaN       1          \n",
       "3   15744090  699    Ярославль  Ж      39   1       NaN       2          \n",
       "6   15635267  822    Ярославль  М      50   7       NaN       2          \n",
       "11  15779909  497    Рыбинск    М      24   3       NaN       2          \n",
       "12  15675000  476    Ярославль  Ж      34   10      NaN       2          \n",
       "13  15734219  549    Ярославль  Ж      25   5       NaN       2          \n",
       "14  15643618  635    Рыбинск    Ж      35   7       NaN       2          \n",
       "17  15830954  549    Рыбинск    Ж      24   9       NaN       2          \n",
       "18  15704243  587    Рыбинск    М      45   6       NaN       1          \n",
       "19  15611718  726    Ярославль  Ж      24   6       NaN       2          \n",
       "\n",
       "    CreditCard  Loyalty  estimated_salary  Churn  \n",
       "0   1           1        101348.88         1      \n",
       "3   0           0        93826.63          0      \n",
       "6   1           1        10062.80          0      \n",
       "11  1           0        76390.01          0      \n",
       "12  1           0        26260.98          0      \n",
       "13  0           0        190857.79         0      \n",
       "14  1           1        65951.65          0      \n",
       "17  1           1        14406.41          0      \n",
       "18  0           0        158684.81         0      \n",
       "19  1           1        54724.03          0      "
      ]
     },
     "metadata": {},
     "output_type": "display_data"
    }
   ],
   "source": [
    "display(data[data.isna().any(axis=1)].head(10))"
   ]
  },
  {
   "cell_type": "code",
   "execution_count": 5,
   "metadata": {},
   "outputs": [
    {
     "data": {
      "text/html": [
       "<div>\n",
       "<style scoped>\n",
       "    .dataframe tbody tr th:only-of-type {\n",
       "        vertical-align: middle;\n",
       "    }\n",
       "\n",
       "    .dataframe tbody tr th {\n",
       "        vertical-align: top;\n",
       "    }\n",
       "\n",
       "    .dataframe thead th {\n",
       "        text-align: right;\n",
       "    }\n",
       "</style>\n",
       "<table border=\"1\" class=\"dataframe\">\n",
       "  <thead>\n",
       "    <tr style=\"text-align: right;\">\n",
       "      <th></th>\n",
       "      <th>userid</th>\n",
       "      <th>score</th>\n",
       "      <th>City</th>\n",
       "      <th>Gender</th>\n",
       "      <th>Age</th>\n",
       "      <th>Objects</th>\n",
       "      <th>Balance</th>\n",
       "      <th>Products</th>\n",
       "      <th>CreditCard</th>\n",
       "      <th>Loyalty</th>\n",
       "      <th>estimated_salary</th>\n",
       "      <th>Churn</th>\n",
       "    </tr>\n",
       "  </thead>\n",
       "  <tbody>\n",
       "    <tr>\n",
       "      <th>2362</th>\n",
       "      <td>15833789</td>\n",
       "      <td>709</td>\n",
       "      <td>Ростов Великий</td>\n",
       "      <td>М</td>\n",
       "      <td>45</td>\n",
       "      <td>4</td>\n",
       "      <td>122917.71</td>\n",
       "      <td>1</td>\n",
       "      <td>1</td>\n",
       "      <td>1</td>\n",
       "      <td>11.58</td>\n",
       "      <td>1</td>\n",
       "    </tr>\n",
       "    <tr>\n",
       "      <th>9647</th>\n",
       "      <td>15722429</td>\n",
       "      <td>625</td>\n",
       "      <td>Ярославль</td>\n",
       "      <td>М</td>\n",
       "      <td>31</td>\n",
       "      <td>5</td>\n",
       "      <td>NaN</td>\n",
       "      <td>2</td>\n",
       "      <td>0</td>\n",
       "      <td>1</td>\n",
       "      <td>90.07</td>\n",
       "      <td>0</td>\n",
       "    </tr>\n",
       "    <tr>\n",
       "      <th>9010</th>\n",
       "      <td>15829199</td>\n",
       "      <td>645</td>\n",
       "      <td>Ростов Великий</td>\n",
       "      <td>Ж</td>\n",
       "      <td>59</td>\n",
       "      <td>8</td>\n",
       "      <td>121669.93</td>\n",
       "      <td>2</td>\n",
       "      <td>0</td>\n",
       "      <td>0</td>\n",
       "      <td>91.75</td>\n",
       "      <td>1</td>\n",
       "    </tr>\n",
       "    <tr>\n",
       "      <th>5548</th>\n",
       "      <td>15682398</td>\n",
       "      <td>710</td>\n",
       "      <td>Ярославль</td>\n",
       "      <td>М</td>\n",
       "      <td>38</td>\n",
       "      <td>2</td>\n",
       "      <td>NaN</td>\n",
       "      <td>2</td>\n",
       "      <td>1</td>\n",
       "      <td>0</td>\n",
       "      <td>96.27</td>\n",
       "      <td>0</td>\n",
       "    </tr>\n",
       "    <tr>\n",
       "      <th>4989</th>\n",
       "      <td>15645587</td>\n",
       "      <td>629</td>\n",
       "      <td>Ярославль</td>\n",
       "      <td>М</td>\n",
       "      <td>40</td>\n",
       "      <td>9</td>\n",
       "      <td>NaN</td>\n",
       "      <td>1</td>\n",
       "      <td>1</td>\n",
       "      <td>0</td>\n",
       "      <td>106.67</td>\n",
       "      <td>0</td>\n",
       "    </tr>\n",
       "    <tr>\n",
       "      <th>7565</th>\n",
       "      <td>15666105</td>\n",
       "      <td>708</td>\n",
       "      <td>Ярославль</td>\n",
       "      <td>М</td>\n",
       "      <td>52</td>\n",
       "      <td>10</td>\n",
       "      <td>105355.81</td>\n",
       "      <td>1</td>\n",
       "      <td>1</td>\n",
       "      <td>0</td>\n",
       "      <td>123.07</td>\n",
       "      <td>1</td>\n",
       "    </tr>\n",
       "    <tr>\n",
       "      <th>2498</th>\n",
       "      <td>15691471</td>\n",
       "      <td>718</td>\n",
       "      <td>Ярославль</td>\n",
       "      <td>М</td>\n",
       "      <td>37</td>\n",
       "      <td>8</td>\n",
       "      <td>NaN</td>\n",
       "      <td>2</td>\n",
       "      <td>1</td>\n",
       "      <td>1</td>\n",
       "      <td>142.81</td>\n",
       "      <td>0</td>\n",
       "    </tr>\n",
       "    <tr>\n",
       "      <th>8722</th>\n",
       "      <td>15761403</td>\n",
       "      <td>621</td>\n",
       "      <td>Ярославль</td>\n",
       "      <td>М</td>\n",
       "      <td>35</td>\n",
       "      <td>7</td>\n",
       "      <td>87619.29</td>\n",
       "      <td>1</td>\n",
       "      <td>1</td>\n",
       "      <td>0</td>\n",
       "      <td>143.34</td>\n",
       "      <td>0</td>\n",
       "    </tr>\n",
       "    <tr>\n",
       "      <th>4774</th>\n",
       "      <td>15683157</td>\n",
       "      <td>811</td>\n",
       "      <td>Ярославль</td>\n",
       "      <td>Ж</td>\n",
       "      <td>35</td>\n",
       "      <td>7</td>\n",
       "      <td>NaN</td>\n",
       "      <td>1</td>\n",
       "      <td>1</td>\n",
       "      <td>1</td>\n",
       "      <td>178.19</td>\n",
       "      <td>0</td>\n",
       "    </tr>\n",
       "    <tr>\n",
       "      <th>1451</th>\n",
       "      <td>15726934</td>\n",
       "      <td>551</td>\n",
       "      <td>Ярославль</td>\n",
       "      <td>Ж</td>\n",
       "      <td>38</td>\n",
       "      <td>10</td>\n",
       "      <td>NaN</td>\n",
       "      <td>2</td>\n",
       "      <td>1</td>\n",
       "      <td>1</td>\n",
       "      <td>216.27</td>\n",
       "      <td>0</td>\n",
       "    </tr>\n",
       "  </tbody>\n",
       "</table>\n",
       "</div>"
      ],
      "text/plain": [
       "        userid  score            City Gender  Age  Objects    Balance  \\\n",
       "2362  15833789  709    Ростов Великий  М      45   4        122917.71   \n",
       "9647  15722429  625    Ярославль       М      31   5       NaN          \n",
       "9010  15829199  645    Ростов Великий  Ж      59   8        121669.93   \n",
       "5548  15682398  710    Ярославль       М      38   2       NaN          \n",
       "4989  15645587  629    Ярославль       М      40   9       NaN          \n",
       "7565  15666105  708    Ярославль       М      52   10       105355.81   \n",
       "2498  15691471  718    Ярославль       М      37   8       NaN          \n",
       "8722  15761403  621    Ярославль       М      35   7        87619.29    \n",
       "4774  15683157  811    Ярославль       Ж      35   7       NaN          \n",
       "1451  15726934  551    Ярославль       Ж      38   10      NaN          \n",
       "\n",
       "      Products  CreditCard  Loyalty  estimated_salary  Churn  \n",
       "2362  1         1           1        11.58             1      \n",
       "9647  2         0           1        90.07             0      \n",
       "9010  2         0           0        91.75             1      \n",
       "5548  2         1           0        96.27             0      \n",
       "4989  1         1           0        106.67            0      \n",
       "7565  1         1           0        123.07            1      \n",
       "2498  2         1           1        142.81            0      \n",
       "8722  1         1           0        143.34            0      \n",
       "4774  1         1           1        178.19            0      \n",
       "1451  2         1           1        216.27            0      "
      ]
     },
     "metadata": {},
     "output_type": "display_data"
    }
   ],
   "source": [
    "display(data.sort_values(by = 'estimated_salary', ascending = True).head(10))"
   ]
  },
  {
   "cell_type": "markdown",
   "metadata": {},
   "source": [
    "<div class=\"alert alert-block alert-info\">\n",
    "Исходные данные в порядке их можно брать в работу, предварительно сделав предобработку данных.\n",
    "Дополнительно изучим признаки City, Genger, Products.\n",
    "    \n",
    "Есть пропуски в Balance. Это могут быть нулевые значения или ошибки данных.   \n",
    "    \n",
    "В estimated_salary есть клиенты у которых доход, аномально низкий, но есть непропорционально большие средства на балансе.  \n",
    "Одно из предлположений, что estimated_salary это средний годовой показатель и на дистанции год, он получается низким из-за следующих причин: \n",
    "Клиент мог остаться без дохода или не получает ЗП на счет банка.\n",
    "    \n",
    "</div>"
   ]
  },
  {
   "cell_type": "markdown",
   "metadata": {},
   "source": [
    "<div class=\"alert alert-block alert-info\">\n",
    "<b>2. Предобработка данных</b> \n",
    "    "
   ]
  },
  {
   "cell_type": "code",
   "execution_count": 6,
   "metadata": {},
   "outputs": [],
   "source": [
    "#Сделаем замену в Gender М - 1, Ж - 0\n",
    "\n",
    "data['Gender'] = data['Gender'].replace('М',1)\n",
    "data['Gender'] = data['Gender'].replace('Ж',0)"
   ]
  },
  {
   "cell_type": "code",
   "execution_count": 7,
   "metadata": {},
   "outputs": [
    {
     "data": {
      "text/html": [
       "<div>\n",
       "<style scoped>\n",
       "    .dataframe tbody tr th:only-of-type {\n",
       "        vertical-align: middle;\n",
       "    }\n",
       "\n",
       "    .dataframe tbody tr th {\n",
       "        vertical-align: top;\n",
       "    }\n",
       "\n",
       "    .dataframe thead th {\n",
       "        text-align: right;\n",
       "    }\n",
       "</style>\n",
       "<table border=\"1\" class=\"dataframe\">\n",
       "  <thead>\n",
       "    <tr style=\"text-align: right;\">\n",
       "      <th>Churn</th>\n",
       "      <th>0</th>\n",
       "      <th>1</th>\n",
       "    </tr>\n",
       "    <tr>\n",
       "      <th>Products</th>\n",
       "      <th></th>\n",
       "      <th></th>\n",
       "    </tr>\n",
       "  </thead>\n",
       "  <tbody>\n",
       "    <tr>\n",
       "      <th>1</th>\n",
       "      <td>3675.0</td>\n",
       "      <td>1409.0</td>\n",
       "    </tr>\n",
       "    <tr>\n",
       "      <th>2</th>\n",
       "      <td>4242.0</td>\n",
       "      <td>348.0</td>\n",
       "    </tr>\n",
       "    <tr>\n",
       "      <th>3</th>\n",
       "      <td>46.0</td>\n",
       "      <td>220.0</td>\n",
       "    </tr>\n",
       "    <tr>\n",
       "      <th>4</th>\n",
       "      <td>NaN</td>\n",
       "      <td>60.0</td>\n",
       "    </tr>\n",
       "  </tbody>\n",
       "</table>\n",
       "</div>"
      ],
      "text/plain": [
       "Churn          0       1\n",
       "Products                \n",
       "1         3675.0  1409.0\n",
       "2         4242.0  348.0 \n",
       "3         46.0    220.0 \n",
       "4        NaN      60.0  "
      ]
     },
     "metadata": {},
     "output_type": "display_data"
    }
   ],
   "source": [
    "#Посмотрим на доли по продуктам\n",
    "display(data.pivot_table(index='Products', values='userid', columns = 'Churn', aggfunc='count'))"
   ]
  },
  {
   "cell_type": "markdown",
   "metadata": {},
   "source": [
    "<div class=\"alert alert-block alert-info\">\n",
    "<b>3. Исследовательский анализ данных</b> \n",
    "    "
   ]
  },
  {
   "cell_type": "code",
   "execution_count": 8,
   "metadata": {},
   "outputs": [
    {
     "name": "stdout",
     "output_type": "stream",
     "text": [
      "Доля пользователей, которые ушли в отток 20.37%\n"
     ]
    }
   ],
   "source": [
    "print('Доля пользователей, которые ушли в отток {:.2%}'.format(data.query('Churn == 1')['Churn'].count()/data['Churn'].count()))"
   ]
  },
  {
   "cell_type": "markdown",
   "metadata": {},
   "source": [
    "<div class=\"alert alert-block alert-info\">\n",
    "Итого мы имеем большинство пользователей, которые продолжают пользователься банком. Это почти 80%.\n",
    "</div>"
   ]
  },
  {
   "cell_type": "code",
   "execution_count": 9,
   "metadata": {
    "scrolled": false
   },
   "outputs": [
    {
     "data": {
      "image/png": "[encoded data removed]",
      "text/plain": [
       "<Figure size 1008x576 with 1 Axes>"
      ]
     },
     "metadata": {
      "needs_background": "light"
     },
     "output_type": "display_data"
    },
    {
     "data": {
      "image/png": "[encoded data removed]",
      "text/plain": [
       "<Figure size 1008x576 with 1 Axes>"
      ]
     },
     "metadata": {
      "needs_background": "light"
     },
     "output_type": "display_data"
    },
    {
     "data": {
      "image/png": "[encoded data removed]",
      "text/plain": [
       "<Figure size 1008x576 with 1 Axes>"
      ]
     },
     "metadata": {
      "needs_background": "light"
     },
     "output_type": "display_data"
    },
    {
     "data": {
      "image/png": "[encoded data removed]",
      "text/plain": [
       "<Figure size 1008x576 with 1 Axes>"
      ]
     },
     "metadata": {
      "needs_background": "light"
     },
     "output_type": "display_data"
    }
   ],
   "source": [
    "list_features_num = np.array(['score', 'Age', 'Balance', 'estimated_salary'])\n",
    "\n",
    "for col in list_features_num:\n",
    "    plt.figure(figsize=(14,8))\n",
    "    sns.distplot(data.query('Churn == 1')[col], bins=50, color='blue', label = 'Churn-1') \n",
    "    sns.distplot(data.query('Churn == 0')[col], bins=50, color='red', label = 'Churn-0') \n",
    "    plt.xlabel(col)\n",
    "    plt.legend()\n",
    "    plt.ylabel(\"Density\")  \n",
    "    plt.title(col)\n",
    "    plt.show()"
   ]
  },
  {
   "cell_type": "markdown",
   "metadata": {},
   "source": [
    "<div class=\"alert alert-block alert-info\">\n",
    "    \n",
    "- Баллы кредитного скоринга(score) не вляют на отток  \n",
    "    \n",
    "- Клиенты в возрасте 30-40 менее склоны к оттоку, а клиенты 40-50 чаще отказываются от услуг \n",
    "\n",
    "- Предварительно можно сказать, что баланс на счете и оценочная ЗП клиента не влияют на отток. Нужны дополнительные исследования\n",
    "    \n",
    "\n",
    "    \n",
    "    \n",
    "</div>"
   ]
  },
  {
   "cell_type": "code",
   "execution_count": 10,
   "metadata": {
    "scrolled": false
   },
   "outputs": [
    {
     "data": {
      "image/png": "[encoded data removed]",
      "text/plain": [
       "<Figure size 720x360 with 1 Axes>"
      ]
     },
     "metadata": {
      "needs_background": "light"
     },
     "output_type": "display_data"
    },
    {
     "data": {
      "image/png": "[encoded data removed]",
      "text/plain": [
       "<Figure size 720x360 with 1 Axes>"
      ]
     },
     "metadata": {
      "needs_background": "light"
     },
     "output_type": "display_data"
    },
    {
     "data": {
      "image/png": "[encoded data removed]",
      "text/plain": [
       "<Figure size 720x360 with 1 Axes>"
      ]
     },
     "metadata": {
      "needs_background": "light"
     },
     "output_type": "display_data"
    },
    {
     "data": {
      "image/png": "[encoded data removed]",
      "text/plain": [
       "<Figure size 720x360 with 1 Axes>"
      ]
     },
     "metadata": {
      "needs_background": "light"
     },
     "output_type": "display_data"
    },
    {
     "data": {
      "image/png": "[encoded data removed]",
      "text/plain": [
       "<Figure size 720x360 with 1 Axes>"
      ]
     },
     "metadata": {
      "needs_background": "light"
     },
     "output_type": "display_data"
    },
    {
     "data": {
      "image/png": "[encoded data removed]",
      "text/plain": [
       "<Figure size 720x360 with 1 Axes>"
      ]
     },
     "metadata": {
      "needs_background": "light"
     },
     "output_type": "display_data"
    }
   ],
   "source": [
    "list_feature_bool = np.array(['City', 'Objects','Products', 'Gender', 'CreditCard', 'Loyalty'])\n",
    "\n",
    "for col in list_feature_bool:\n",
    "    plt.figure(figsize=(10,5))\n",
    "    sns.countplot(data[col], hue=data['Churn']) \n",
    "    plt.xlabel(col)\n",
    "    plt.ylabel(\"count\")  \n",
    "    plt.title(col)\n",
    "    plt.show()"
   ]
  },
  {
   "cell_type": "code",
   "execution_count": 11,
   "metadata": {},
   "outputs": [
    {
     "data": {
      "text/html": [
       "<div>\n",
       "<style scoped>\n",
       "    .dataframe tbody tr th:only-of-type {\n",
       "        vertical-align: middle;\n",
       "    }\n",
       "\n",
       "    .dataframe tbody tr th {\n",
       "        vertical-align: top;\n",
       "    }\n",
       "\n",
       "    .dataframe thead th {\n",
       "        text-align: right;\n",
       "    }\n",
       "</style>\n",
       "<table border=\"1\" class=\"dataframe\">\n",
       "  <thead>\n",
       "    <tr style=\"text-align: right;\">\n",
       "      <th></th>\n",
       "      <th>City</th>\n",
       "      <th>0</th>\n",
       "      <th>1</th>\n",
       "      <th>rate_churn</th>\n",
       "    </tr>\n",
       "  </thead>\n",
       "  <tbody>\n",
       "    <tr>\n",
       "      <th>0</th>\n",
       "      <td>Ростов Великий</td>\n",
       "      <td>1695</td>\n",
       "      <td>814</td>\n",
       "      <td>0.32</td>\n",
       "    </tr>\n",
       "    <tr>\n",
       "      <th>1</th>\n",
       "      <td>Рыбинск</td>\n",
       "      <td>2064</td>\n",
       "      <td>413</td>\n",
       "      <td>0.17</td>\n",
       "    </tr>\n",
       "    <tr>\n",
       "      <th>2</th>\n",
       "      <td>Ярославль</td>\n",
       "      <td>4204</td>\n",
       "      <td>810</td>\n",
       "      <td>0.16</td>\n",
       "    </tr>\n",
       "  </tbody>\n",
       "</table>\n",
       "</div>"
      ],
      "text/plain": [
       "             City     0    1  rate_churn\n",
       "0  Ростов Великий  1695  814  0.32      \n",
       "1  Рыбинск         2064  413  0.17      \n",
       "2  Ярославль       4204  810  0.16      "
      ]
     },
     "metadata": {},
     "output_type": "display_data"
    },
    {
     "data": {
      "text/html": [
       "<div>\n",
       "<style scoped>\n",
       "    .dataframe tbody tr th:only-of-type {\n",
       "        vertical-align: middle;\n",
       "    }\n",
       "\n",
       "    .dataframe tbody tr th {\n",
       "        vertical-align: top;\n",
       "    }\n",
       "\n",
       "    .dataframe thead th {\n",
       "        text-align: right;\n",
       "    }\n",
       "</style>\n",
       "<table border=\"1\" class=\"dataframe\">\n",
       "  <thead>\n",
       "    <tr style=\"text-align: right;\">\n",
       "      <th></th>\n",
       "      <th>Objects</th>\n",
       "      <th>0</th>\n",
       "      <th>1</th>\n",
       "      <th>rate_churn</th>\n",
       "    </tr>\n",
       "  </thead>\n",
       "  <tbody>\n",
       "    <tr>\n",
       "      <th>0</th>\n",
       "      <td>0</td>\n",
       "      <td>318</td>\n",
       "      <td>95</td>\n",
       "      <td>0.23</td>\n",
       "    </tr>\n",
       "    <tr>\n",
       "      <th>1</th>\n",
       "      <td>1</td>\n",
       "      <td>803</td>\n",
       "      <td>232</td>\n",
       "      <td>0.22</td>\n",
       "    </tr>\n",
       "    <tr>\n",
       "      <th>2</th>\n",
       "      <td>2</td>\n",
       "      <td>847</td>\n",
       "      <td>201</td>\n",
       "      <td>0.19</td>\n",
       "    </tr>\n",
       "    <tr>\n",
       "      <th>3</th>\n",
       "      <td>3</td>\n",
       "      <td>796</td>\n",
       "      <td>213</td>\n",
       "      <td>0.21</td>\n",
       "    </tr>\n",
       "    <tr>\n",
       "      <th>4</th>\n",
       "      <td>4</td>\n",
       "      <td>786</td>\n",
       "      <td>203</td>\n",
       "      <td>0.21</td>\n",
       "    </tr>\n",
       "    <tr>\n",
       "      <th>5</th>\n",
       "      <td>5</td>\n",
       "      <td>803</td>\n",
       "      <td>209</td>\n",
       "      <td>0.21</td>\n",
       "    </tr>\n",
       "    <tr>\n",
       "      <th>6</th>\n",
       "      <td>6</td>\n",
       "      <td>771</td>\n",
       "      <td>196</td>\n",
       "      <td>0.20</td>\n",
       "    </tr>\n",
       "    <tr>\n",
       "      <th>7</th>\n",
       "      <td>7</td>\n",
       "      <td>851</td>\n",
       "      <td>177</td>\n",
       "      <td>0.17</td>\n",
       "    </tr>\n",
       "    <tr>\n",
       "      <th>8</th>\n",
       "      <td>8</td>\n",
       "      <td>828</td>\n",
       "      <td>197</td>\n",
       "      <td>0.19</td>\n",
       "    </tr>\n",
       "    <tr>\n",
       "      <th>9</th>\n",
       "      <td>9</td>\n",
       "      <td>771</td>\n",
       "      <td>213</td>\n",
       "      <td>0.22</td>\n",
       "    </tr>\n",
       "    <tr>\n",
       "      <th>10</th>\n",
       "      <td>10</td>\n",
       "      <td>389</td>\n",
       "      <td>101</td>\n",
       "      <td>0.21</td>\n",
       "    </tr>\n",
       "  </tbody>\n",
       "</table>\n",
       "</div>"
      ],
      "text/plain": [
       "    Objects    0    1  rate_churn\n",
       "0   0        318  95   0.23      \n",
       "1   1        803  232  0.22      \n",
       "2   2        847  201  0.19      \n",
       "3   3        796  213  0.21      \n",
       "4   4        786  203  0.21      \n",
       "5   5        803  209  0.21      \n",
       "6   6        771  196  0.20      \n",
       "7   7        851  177  0.17      \n",
       "8   8        828  197  0.19      \n",
       "9   9        771  213  0.22      \n",
       "10  10       389  101  0.21      "
      ]
     },
     "metadata": {},
     "output_type": "display_data"
    },
    {
     "data": {
      "text/html": [
       "<div>\n",
       "<style scoped>\n",
       "    .dataframe tbody tr th:only-of-type {\n",
       "        vertical-align: middle;\n",
       "    }\n",
       "\n",
       "    .dataframe tbody tr th {\n",
       "        vertical-align: top;\n",
       "    }\n",
       "\n",
       "    .dataframe thead th {\n",
       "        text-align: right;\n",
       "    }\n",
       "</style>\n",
       "<table border=\"1\" class=\"dataframe\">\n",
       "  <thead>\n",
       "    <tr style=\"text-align: right;\">\n",
       "      <th></th>\n",
       "      <th>Gender</th>\n",
       "      <th>0</th>\n",
       "      <th>1</th>\n",
       "      <th>rate_churn</th>\n",
       "    </tr>\n",
       "  </thead>\n",
       "  <tbody>\n",
       "    <tr>\n",
       "      <th>0</th>\n",
       "      <td>0</td>\n",
       "      <td>3404</td>\n",
       "      <td>1139</td>\n",
       "      <td>0.25</td>\n",
       "    </tr>\n",
       "    <tr>\n",
       "      <th>1</th>\n",
       "      <td>1</td>\n",
       "      <td>4559</td>\n",
       "      <td>898</td>\n",
       "      <td>0.16</td>\n",
       "    </tr>\n",
       "  </tbody>\n",
       "</table>\n",
       "</div>"
      ],
      "text/plain": [
       "   Gender     0     1  rate_churn\n",
       "0  0       3404  1139  0.25      \n",
       "1  1       4559  898   0.16      "
      ]
     },
     "metadata": {},
     "output_type": "display_data"
    },
    {
     "data": {
      "text/html": [
       "<div>\n",
       "<style scoped>\n",
       "    .dataframe tbody tr th:only-of-type {\n",
       "        vertical-align: middle;\n",
       "    }\n",
       "\n",
       "    .dataframe tbody tr th {\n",
       "        vertical-align: top;\n",
       "    }\n",
       "\n",
       "    .dataframe thead th {\n",
       "        text-align: right;\n",
       "    }\n",
       "</style>\n",
       "<table border=\"1\" class=\"dataframe\">\n",
       "  <thead>\n",
       "    <tr style=\"text-align: right;\">\n",
       "      <th></th>\n",
       "      <th>Products</th>\n",
       "      <th>0</th>\n",
       "      <th>1</th>\n",
       "      <th>rate_churn</th>\n",
       "    </tr>\n",
       "  </thead>\n",
       "  <tbody>\n",
       "    <tr>\n",
       "      <th>0</th>\n",
       "      <td>1</td>\n",
       "      <td>3675.0</td>\n",
       "      <td>1409.0</td>\n",
       "      <td>0.28</td>\n",
       "    </tr>\n",
       "    <tr>\n",
       "      <th>1</th>\n",
       "      <td>2</td>\n",
       "      <td>4242.0</td>\n",
       "      <td>348.0</td>\n",
       "      <td>0.08</td>\n",
       "    </tr>\n",
       "    <tr>\n",
       "      <th>2</th>\n",
       "      <td>3</td>\n",
       "      <td>46.0</td>\n",
       "      <td>220.0</td>\n",
       "      <td>0.83</td>\n",
       "    </tr>\n",
       "    <tr>\n",
       "      <th>3</th>\n",
       "      <td>4</td>\n",
       "      <td>NaN</td>\n",
       "      <td>60.0</td>\n",
       "      <td>NaN</td>\n",
       "    </tr>\n",
       "  </tbody>\n",
       "</table>\n",
       "</div>"
      ],
      "text/plain": [
       "   Products       0       1  rate_churn\n",
       "0  1         3675.0  1409.0  0.28      \n",
       "1  2         4242.0  348.0   0.08      \n",
       "2  3         46.0    220.0   0.83      \n",
       "3  4        NaN      60.0   NaN        "
      ]
     },
     "metadata": {},
     "output_type": "display_data"
    },
    {
     "data": {
      "text/html": [
       "<div>\n",
       "<style scoped>\n",
       "    .dataframe tbody tr th:only-of-type {\n",
       "        vertical-align: middle;\n",
       "    }\n",
       "\n",
       "    .dataframe tbody tr th {\n",
       "        vertical-align: top;\n",
       "    }\n",
       "\n",
       "    .dataframe thead th {\n",
       "        text-align: right;\n",
       "    }\n",
       "</style>\n",
       "<table border=\"1\" class=\"dataframe\">\n",
       "  <thead>\n",
       "    <tr style=\"text-align: right;\">\n",
       "      <th></th>\n",
       "      <th>CreditCard</th>\n",
       "      <th>0</th>\n",
       "      <th>1</th>\n",
       "      <th>rate_churn</th>\n",
       "    </tr>\n",
       "  </thead>\n",
       "  <tbody>\n",
       "    <tr>\n",
       "      <th>0</th>\n",
       "      <td>0</td>\n",
       "      <td>2332</td>\n",
       "      <td>613</td>\n",
       "      <td>0.21</td>\n",
       "    </tr>\n",
       "    <tr>\n",
       "      <th>1</th>\n",
       "      <td>1</td>\n",
       "      <td>5631</td>\n",
       "      <td>1424</td>\n",
       "      <td>0.20</td>\n",
       "    </tr>\n",
       "  </tbody>\n",
       "</table>\n",
       "</div>"
      ],
      "text/plain": [
       "   CreditCard     0     1  rate_churn\n",
       "0  0           2332  613   0.21      \n",
       "1  1           5631  1424  0.20      "
      ]
     },
     "metadata": {},
     "output_type": "display_data"
    },
    {
     "data": {
      "text/html": [
       "<div>\n",
       "<style scoped>\n",
       "    .dataframe tbody tr th:only-of-type {\n",
       "        vertical-align: middle;\n",
       "    }\n",
       "\n",
       "    .dataframe tbody tr th {\n",
       "        vertical-align: top;\n",
       "    }\n",
       "\n",
       "    .dataframe thead th {\n",
       "        text-align: right;\n",
       "    }\n",
       "</style>\n",
       "<table border=\"1\" class=\"dataframe\">\n",
       "  <thead>\n",
       "    <tr style=\"text-align: right;\">\n",
       "      <th></th>\n",
       "      <th>Loyalty</th>\n",
       "      <th>0</th>\n",
       "      <th>1</th>\n",
       "      <th>rate_churn</th>\n",
       "    </tr>\n",
       "  </thead>\n",
       "  <tbody>\n",
       "    <tr>\n",
       "      <th>0</th>\n",
       "      <td>0</td>\n",
       "      <td>3547</td>\n",
       "      <td>1302</td>\n",
       "      <td>0.27</td>\n",
       "    </tr>\n",
       "    <tr>\n",
       "      <th>1</th>\n",
       "      <td>1</td>\n",
       "      <td>4416</td>\n",
       "      <td>735</td>\n",
       "      <td>0.14</td>\n",
       "    </tr>\n",
       "  </tbody>\n",
       "</table>\n",
       "</div>"
      ],
      "text/plain": [
       "   Loyalty     0     1  rate_churn\n",
       "0  0        3547  1302  0.27      \n",
       "1  1        4416  735   0.14      "
      ]
     },
     "metadata": {},
     "output_type": "display_data"
    }
   ],
   "source": [
    "list_feature_bool = np.array(['City', 'Objects', 'Gender', 'Products', 'CreditCard', 'Loyalty'])\n",
    "for col in list_feature_bool:\n",
    "    tables = data.pivot_table(index=col, columns=data['Churn'], values='userid', aggfunc='count').reset_index()\n",
    "    tables.columns = [col, '0','1']\n",
    "    tables['rate_churn'] = (tables['1']/(tables['0'] + tables['1'])).round(2)\n",
    "    display(tables)"
   ]
  },
  {
   "cell_type": "markdown",
   "metadata": {},
   "source": [
    "<div class=\"alert alert-block alert-info\">\n",
    "    \n",
    "- Наиболее устойчив к оттоку Ярославль(16%) и Рыбинск(17%). В Ростове Великом соотношение ушедших пользователей составляет 1/3 от всей выборки.\n",
    "- В выборке мало пользователей, у которых нет объектов недвижимости. Можно сказать, что кол-во объектов недвижимости не влияет на отток.  \n",
    "- Пользователей мужчин больше, чем женщин. Мужчин(16%) чаще остаются клиентами банка, чем женщины(25%)  \n",
    "- Наличие 2ух продутов положительно сказывается на удержании клиентов. Для оценки наличия 3 и 4 продуктов необходимо больше данных.\n",
    "- Сложно сказать влияет ли наличие кредитной карты на отток. Так как мало пользователей у которых нет кредитной карты. Соотношение примерно одинаково 20-21% \n",
    "- А вот активность положительно сказывается на желание клиента быть с банком 14% против 27% (пассивность)\n",
    "</div>"
   ]
  },
  {
   "cell_type": "code",
   "execution_count": 12,
   "metadata": {
    "scrolled": false
   },
   "outputs": [
    {
     "data": {
      "image/png": "[encoded data removed]",
      "text/plain": [
       "<Figure size 1008x576 with 2 Axes>"
      ]
     },
     "metadata": {
      "needs_background": "light"
     },
     "output_type": "display_data"
    }
   ],
   "source": [
    "#Построим матрицу корреляций и отобразите её\n",
    "\n",
    "cm = data.corr()   \n",
    "plt.figure(figsize=(14,8))\n",
    "plt.title('Взаимная корреляция признаков')\n",
    "sns.heatmap(cm, annot = True, square=True, fmt='.2f', cmap ='coolwarm')\n",
    "plt.show()"
   ]
  },
  {
   "cell_type": "markdown",
   "metadata": {},
   "source": [
    "<div class=\"alert alert-block alert-info\">\n",
    "    \n",
    "- Не выявленно ниодной корреляции между признаками\n",
    "\n",
    "</div>"
   ]
  },
  {
   "cell_type": "markdown",
   "metadata": {},
   "source": [
    "<div class=\"alert alert-block alert-info\">\n",
    "<b>4. Сегментация пользователей и проверка гипотез </b>\n",
    "</div>"
   ]
  },
  {
   "cell_type": "code",
   "execution_count": 13,
   "metadata": {},
   "outputs": [
    {
     "name": "stdout",
     "output_type": "stream",
     "text": [
      "p-значение: 0.11352575465076892\n",
      "Не получилось отвергнуть нулевую гипотезу. Доходы в обоих группах не имеют стат. различий\n"
     ]
    }
   ],
   "source": [
    "#Проверим гипотезу различия дохода между теми клиентами, которые ушли и теми, которые остались.\n",
    "#Нулевая гипотеза - нет статистически значимых различий в доходах между группами\n",
    "#Альтернативная гипотеза - есть статистически значимые различия в доходах между группами\n",
    "\n",
    "\n",
    "salary_churn1 = data.query('Churn == 1')['estimated_salary']\n",
    "salary_churn0 = data.query('Churn == 0')['estimated_salary']\n",
    "\n",
    "\n",
    "alpha = 0.05  # критический уровень статистической значимости\n",
    "# если p-value окажется меньше него - отвергнем гипотезу\n",
    "\n",
    "results = st.mannwhitneyu(salary_churn1, salary_churn0)\n",
    "\n",
    "\n",
    "print('p-значение:', results.pvalue)\n",
    "\n",
    "if results.pvalue < alpha:\n",
    "    print('Отвергаем нулевую гипотезу. Доходы в обоих группах имеют стат. различия')\n",
    "else:\n",
    "    print('Не получилось отвергнуть нулевую гипотезу. Доходы в обоих группах не имеют стат. различий') \n",
    "    \n",
    "    "
   ]
  },
  {
   "cell_type": "code",
   "execution_count": 14,
   "metadata": {},
   "outputs": [
    {
     "name": "stdout",
     "output_type": "stream",
     "text": [
      "p-значение: 0.11075442777959688\n",
      "Не получилось отвергнуть нулевую гипотезу. Балансы в обоих группах не имеют стат. различий\n"
     ]
    }
   ],
   "source": [
    "#Проверим гипотезу различия баланса между теми клиентами, которые ушли и теми, которые остались.\n",
    "#Нулевая гипотеза - нет статистически значимых различий в балансах между группами\n",
    "#Альтернативная гипотеза - есть статистически значимые различия в балансах между группами\n",
    "\n",
    "balance = data.dropna()\n",
    "\n",
    "balance_churn1 = balance.query('Churn == 1')['Balance']\n",
    "balance_churn0 = balance.query('Churn == 0')['Balance']\n",
    "\n",
    "\n",
    "alpha = 0.05  # критический уровень статистической значимости\n",
    "# если p-value окажется меньше него - отвергнем гипотезу\n",
    "\n",
    "results = st.mannwhitneyu(balance_churn1, balance_churn0)\n",
    "\n",
    "print('p-значение:', results.pvalue)\n",
    "\n",
    "if results.pvalue < alpha:\n",
    "    print('Отвергаем нулевую гипотезу. Балансы в группах имеет стат. различия')\n",
    "else:\n",
    "    print('Не получилось отвергнуть нулевую гипотезу. Балансы в обоих группах не имеют стат. различий') \n",
    "    \n",
    "    "
   ]
  },
  {
   "cell_type": "code",
   "execution_count": 15,
   "metadata": {},
   "outputs": [
    {
     "data": {
      "text/plain": [
       "2     159660.80\n",
       "5     113755.78\n",
       "7     115046.74\n",
       "16    132602.88\n",
       "35    134264.04\n",
       "Name: Balance, dtype: float64"
      ]
     },
     "metadata": {},
     "output_type": "display_data"
    },
    {
     "data": {
      "text/plain": [
       "1     83807.86 \n",
       "4     125510.82\n",
       "8     142051.07\n",
       "9     134603.88\n",
       "10    102016.72\n",
       "Name: Balance, dtype: float64"
      ]
     },
     "metadata": {},
     "output_type": "display_data"
    }
   ],
   "source": [
    "display(balance_churn1.head())\n",
    "display(balance_churn0.head())"
   ]
  },
  {
   "cell_type": "markdown",
   "metadata": {},
   "source": [
    "<div class=\"alert alert-block alert-info\">\n",
    "Баланс и доходы не влияют на отток. Статистически значимого различия нет.\n",
    "\n",
    "</div>"
   ]
  },
  {
   "cell_type": "code",
   "execution_count": 16,
   "metadata": {},
   "outputs": [
    {
     "data": {
      "text/html": [
       "<div>\n",
       "<style scoped>\n",
       "    .dataframe tbody tr th:only-of-type {\n",
       "        vertical-align: middle;\n",
       "    }\n",
       "\n",
       "    .dataframe tbody tr th {\n",
       "        vertical-align: top;\n",
       "    }\n",
       "\n",
       "    .dataframe thead th {\n",
       "        text-align: right;\n",
       "    }\n",
       "</style>\n",
       "<table border=\"1\" class=\"dataframe\">\n",
       "  <thead>\n",
       "    <tr style=\"text-align: right;\">\n",
       "      <th></th>\n",
       "      <th>products</th>\n",
       "      <th>0</th>\n",
       "      <th>1</th>\n",
       "    </tr>\n",
       "  </thead>\n",
       "  <tbody>\n",
       "    <tr>\n",
       "      <th>0</th>\n",
       "      <td>1</td>\n",
       "      <td>3675.0</td>\n",
       "      <td>1409.0</td>\n",
       "    </tr>\n",
       "    <tr>\n",
       "      <th>1</th>\n",
       "      <td>2</td>\n",
       "      <td>4242.0</td>\n",
       "      <td>348.0</td>\n",
       "    </tr>\n",
       "    <tr>\n",
       "      <th>2</th>\n",
       "      <td>3</td>\n",
       "      <td>46.0</td>\n",
       "      <td>220.0</td>\n",
       "    </tr>\n",
       "    <tr>\n",
       "      <th>3</th>\n",
       "      <td>4</td>\n",
       "      <td>NaN</td>\n",
       "      <td>60.0</td>\n",
       "    </tr>\n",
       "  </tbody>\n",
       "</table>\n",
       "</div>"
      ],
      "text/plain": [
       "   products       0       1\n",
       "0  1         3675.0  1409.0\n",
       "1  2         4242.0  348.0 \n",
       "2  3         46.0    220.0 \n",
       "3  4        NaN      60.0  "
      ]
     },
     "metadata": {},
     "output_type": "display_data"
    }
   ],
   "source": [
    "#Посмотрим на состав продуктов\n",
    "\n",
    "prod_pivot = data.pivot_table(index='Products', values='userid', columns = 'Churn', aggfunc='count').reset_index()\n",
    "prod_pivot.columns = ['products', '0', '1']\n",
    "\n",
    "display(prod_pivot)\n"
   ]
  },
  {
   "cell_type": "markdown",
   "metadata": {},
   "source": [
    "<div class=\"alert alert-block alert-info\">\n",
    "Сводная таблица показала, что клиенты с продуктами 3 и 4 не имеют многочисленное кол-во данных.  \n",
    "    \n",
    "Проверка гипотез для клиентов 3, 4 совместно с клиентами 1, 2 не даст реальных показателей.  \n",
    "    \n",
    "Поэтому в дальнейшем будем проводить проверку гипотез только для продуктов 1, 2.  \n",
    "    \n",
    "</div>"
   ]
  },
  {
   "cell_type": "code",
   "execution_count": 17,
   "metadata": {},
   "outputs": [
    {
     "name": "stdout",
     "output_type": "stream",
     "text": [
      "successes [1409.  348.]\n",
      "trials [3675. 4242.]\n",
      "p-значение:  0.0\n",
      "Отвергаем нулевую гипотезу: между долями есть значимая разница\n"
     ]
    }
   ],
   "source": [
    "#Нулевая гипотеза - Доли оттока между группами 1 (1 продукт) и 2 (2 продукта) не различаются\n",
    "#Альтернативная гипотеза - Доли оттока между группами 1 (1 продукт) и 2 (2 продукта) имеют статистические различия\n",
    "\n",
    "trials = np.array([prod_pivot['0'].values[0], prod_pivot['0'].values[1]])\n",
    "successes = np.array([prod_pivot['1'].values[0], prod_pivot['1'].values[1]])\n",
    "\n",
    "\n",
    "print('successes',successes)\n",
    "print('trials',trials)\n",
    "\n",
    "# пропорция успехов в первой группе:\n",
    "p1 = successes[0]/trials[0]\n",
    "\n",
    "# пропорция успехов во второй группе:\n",
    "p2 = successes[1]/trials[1]\n",
    "\n",
    "# пропорция успехов в комбинированном датасете:\n",
    "p_combined = (successes[0] + successes[1]) / (trials[0] + trials[1])\n",
    "\n",
    "# разница пропорций в датасетах\n",
    "difference = p1 - p2 \n",
    "\n",
    "# считаем статистику в ст.отклонениях стандартного нормального распределения\n",
    "z_value = difference / mth.sqrt(p_combined * (1 - p_combined) * (1/trials[0] + 1/trials[1]))\n",
    "\n",
    "# задаем стандартное нормальное распределение (среднее 0, ст.отклонение 1)\n",
    "distr = st.norm(0, 1)  \n",
    "\n",
    "p_value = (1 - distr.cdf(abs(z_value))) * 2\n",
    "\n",
    "print('p-значение: ', p_value)\n",
    "\n",
    "if p_value < alpha:\n",
    "    print('Отвергаем нулевую гипотезу: между долями есть значимая разница')\n",
    "else:\n",
    "    print(\n",
    "        'Не получилось отвергнуть нулевую гипотезу, нет оснований считать доли разными'\n",
    "    ) "
   ]
  },
  {
   "cell_type": "markdown",
   "metadata": {},
   "source": [
    "<div class=\"alert alert-block alert-info\">\n",
    "Доли между продуктами имеют стат. значимые различия.\n",
    "Можно сказать, что наличие 2 продуктов позволяет удерживать клиента\n",
    "</div>"
   ]
  },
  {
   "cell_type": "markdown",
   "metadata": {},
   "source": [
    "<div class=\"alert alert-block alert-info\">\n",
    "<b>5. Выводы и Рекомендации</b> \n",
    "    "
   ]
  },
  {
   "cell_type": "markdown",
   "metadata": {},
   "source": [
    "<div class=\"alert alert-block alert-info\">\n",
    "В ходе анализа были выявлены признаки, которые влияют на отток/удержание клиентов.  \n",
    "    \n",
    "- Проживание влияет на отток. Клиенты из Ярославля более устойчивы к оттоку 16% от выборки города.  \n",
    "    \n",
    "- Мужчины(16%) чаще остаются клиентами банка, чем женщины(25%)  \n",
    "    \n",
    "- Клиенты в возрасте 30-40 менее склоны к оттоку, а клиенты 40-50 чаще отказываются от услуг  \n",
    "\n",
    "- Активность положительно сказывается на желание клиента быть с банком 14% против 27% (пассивность)\n",
    "    \n",
    "- Наличие 2 продуктов положительно влияет на удержание клиента\n",
    "    \n",
    "    \n",
    "Оценка скоринга (score), Баланс, Доходы, Наличие кредитной карты, не влияет на отток  \n",
    "    \n",
    "Рекомендации: \n",
    "- стоит бороться за привлечение клиентов в крупных городах (Ярославль), и следует предлагать доп продукты, проводить промо с клиентами из мелких городов (Ростов Великий).  \n",
    "    \n",
    "- Удерживать мужчин как клиентов банка проще. Женщины более слклоны покидать данный банк и для них необходимы дополнительные вложения. Для удержания женщин можно разработать карты с интересным дизайном или сделать коллоборация с другими услугами, семейный аккаунты(мужчина и женщина)\n",
    "\n",
    "- Необходимо проводить дополнительные промо и коллоборации для лиц в возрасте 40-50. К примеру Пенсионная программа. На рынке банковских услуг стоит бороться за клиентов моложе 40 лет \n",
    "    \n",
    "- Необходимо повышать активность клиентов различными розыгрышами, промо и т.д.  \n",
    "\n",
    "- Подключение второго продукта залог удержания клиентов\n",
    "    \n",
    "Представленная выборка не дает полной картины об оттоке, так как мы работали только с положительной ее частью 80% клиентов прололжают работу с банком. В выборке не было временных рамок, мы не знаем за какой период был отток клиентов. Есть пропущенные данные в поле Balance. \n",
    "    \n",
    "</div>"
   ]
  },
  {
   "cell_type": "markdown",
   "metadata": {},
   "source": [
    " \n",
    "<link title=\"Презентация\" href=\"https://disk.yandex.by/i/mo8vQCuuhoXp3w\"> "
   ]
  },
  {
   "cell_type": "markdown",
   "metadata": {},
   "source": [
    "<a href=\"https://disk.yandex.by/i/UYrNPZUb5aB1Rg\">Презентация</a>"
   ]
  }
 ],
 "metadata": {
  "ExecuteTimeLog": [
   {
    "duration": 2299,
    "start_time": "2021-08-16T13:20:59.530Z"
   },
   {
    "duration": 31,
    "start_time": "2021-08-16T13:21:32.726Z"
   },
   {
    "duration": 132,
    "start_time": "2021-08-16T13:21:35.449Z"
   },
   {
    "duration": 22,
    "start_time": "2021-08-16T13:21:47.891Z"
   },
   {
    "duration": 22,
    "start_time": "2021-08-16T13:21:54.329Z"
   },
   {
    "duration": 118,
    "start_time": "2021-08-16T13:22:01.415Z"
   },
   {
    "duration": 94,
    "start_time": "2021-08-16T13:22:46.706Z"
   },
   {
    "duration": 86,
    "start_time": "2021-08-16T13:22:54.508Z"
   },
   {
    "duration": 9,
    "start_time": "2021-08-16T13:23:38.826Z"
   },
   {
    "duration": 26,
    "start_time": "2021-08-16T13:23:56.120Z"
   },
   {
    "duration": 14,
    "start_time": "2021-08-16T13:25:30.729Z"
   },
   {
    "duration": 9,
    "start_time": "2021-08-16T13:25:35.039Z"
   },
   {
    "duration": 4873,
    "start_time": "2021-08-16T13:25:43.039Z"
   },
   {
    "duration": 99,
    "start_time": "2021-08-16T13:26:52.104Z"
   },
   {
    "duration": 1838,
    "start_time": "2021-08-16T13:27:07.003Z"
   },
   {
    "duration": 1946,
    "start_time": "2021-08-16T13:27:40.022Z"
   },
   {
    "duration": 95,
    "start_time": "2021-08-16T13:27:44.848Z"
   },
   {
    "duration": 1207,
    "start_time": "2021-08-16T13:28:30.812Z"
   },
   {
    "duration": 128,
    "start_time": "2021-08-16T13:28:43.188Z"
   },
   {
    "duration": 90,
    "start_time": "2021-08-16T13:29:06.472Z"
   },
   {
    "duration": 97,
    "start_time": "2021-08-16T13:29:30.750Z"
   },
   {
    "duration": 45,
    "start_time": "2021-08-16T13:29:44.201Z"
   },
   {
    "duration": 91,
    "start_time": "2021-08-16T13:30:02.655Z"
   },
   {
    "duration": 2351,
    "start_time": "2021-08-16T17:10:15.577Z"
   },
   {
    "duration": 4126,
    "start_time": "2021-08-16T17:10:32.582Z"
   },
   {
    "duration": 2795,
    "start_time": "2021-08-16T17:10:54.750Z"
   },
   {
    "duration": 3352,
    "start_time": "2021-08-16T17:11:36.280Z"
   },
   {
    "duration": 1331,
    "start_time": "2021-08-16T17:31:49.927Z"
   },
   {
    "duration": 475,
    "start_time": "2021-08-16T17:33:35.581Z"
   },
   {
    "duration": 797,
    "start_time": "2021-08-16T17:34:05.307Z"
   },
   {
    "duration": 797,
    "start_time": "2021-08-16T17:34:32.977Z"
   },
   {
    "duration": 1742,
    "start_time": "2021-08-16T17:35:42.939Z"
   },
   {
    "duration": 2241,
    "start_time": "2021-08-16T17:36:14.150Z"
   },
   {
    "duration": 107,
    "start_time": "2021-08-16T17:40:09.117Z"
   },
   {
    "duration": 101,
    "start_time": "2021-08-16T17:40:16.270Z"
   },
   {
    "duration": 110,
    "start_time": "2021-08-16T17:40:19.714Z"
   },
   {
    "duration": 96,
    "start_time": "2021-08-16T17:40:25.698Z"
   },
   {
    "duration": 97,
    "start_time": "2021-08-16T17:40:26.533Z"
   },
   {
    "duration": 120,
    "start_time": "2021-08-16T17:40:35.262Z"
   },
   {
    "duration": 149,
    "start_time": "2021-08-16T17:40:45.291Z"
   },
   {
    "duration": 101,
    "start_time": "2021-08-16T17:42:06.981Z"
   },
   {
    "duration": 1020,
    "start_time": "2021-08-16T17:42:26.174Z"
   },
   {
    "duration": 92,
    "start_time": "2021-08-16T17:46:12.299Z"
   },
   {
    "duration": 277,
    "start_time": "2021-08-16T17:47:16.154Z"
   },
   {
    "duration": 302,
    "start_time": "2021-08-16T17:47:55.409Z"
   },
   {
    "duration": 47,
    "start_time": "2021-08-16T17:48:04.387Z"
   },
   {
    "duration": 293,
    "start_time": "2021-08-16T17:48:20.888Z"
   },
   {
    "duration": 45,
    "start_time": "2021-08-16T17:48:29.020Z"
   },
   {
    "duration": 88,
    "start_time": "2021-08-16T17:48:59.092Z"
   },
   {
    "duration": 95,
    "start_time": "2021-08-16T17:49:14.920Z"
   },
   {
    "duration": 93,
    "start_time": "2021-08-16T17:49:51.551Z"
   },
   {
    "duration": 480,
    "start_time": "2021-08-16T17:50:03.265Z"
   },
   {
    "duration": 540,
    "start_time": "2021-08-16T17:50:19.797Z"
   },
   {
    "duration": 397,
    "start_time": "2021-08-16T17:51:04.771Z"
   },
   {
    "duration": 394,
    "start_time": "2021-08-16T17:51:06.405Z"
   },
   {
    "duration": 454,
    "start_time": "2021-08-16T17:51:19.341Z"
   },
   {
    "duration": 7455,
    "start_time": "2021-08-16T17:51:50.416Z"
   },
   {
    "duration": 441,
    "start_time": "2021-08-16T17:52:22.331Z"
   },
   {
    "duration": 5961,
    "start_time": "2021-08-16T17:53:09.375Z"
   },
   {
    "duration": -690,
    "start_time": "2021-08-16T17:53:28.773Z"
   },
   {
    "duration": 438,
    "start_time": "2021-08-16T17:53:29.598Z"
   },
   {
    "duration": 312,
    "start_time": "2021-08-16T17:54:29.387Z"
   },
   {
    "duration": 209,
    "start_time": "2021-08-16T17:55:02.434Z"
   },
   {
    "duration": 86,
    "start_time": "2021-08-16T17:55:08.319Z"
   },
   {
    "duration": 22,
    "start_time": "2021-08-16T17:55:23.759Z"
   },
   {
    "duration": 21,
    "start_time": "2021-08-16T17:55:24.469Z"
   },
   {
    "duration": 21,
    "start_time": "2021-08-16T17:55:24.929Z"
   },
   {
    "duration": 21,
    "start_time": "2021-08-16T17:55:25.152Z"
   },
   {
    "duration": 21,
    "start_time": "2021-08-16T17:55:25.372Z"
   },
   {
    "duration": 21,
    "start_time": "2021-08-16T17:55:26.742Z"
   },
   {
    "duration": 26,
    "start_time": "2021-08-16T17:55:35.443Z"
   },
   {
    "duration": 6896,
    "start_time": "2021-08-16T17:55:57.382Z"
   },
   {
    "duration": 5073,
    "start_time": "2021-08-16T17:56:15.734Z"
   },
   {
    "duration": 1437,
    "start_time": "2021-08-16T18:01:23.372Z"
   },
   {
    "duration": 1327,
    "start_time": "2021-08-16T18:01:28.215Z"
   },
   {
    "duration": 28,
    "start_time": "2021-08-16T18:03:30.468Z"
   },
   {
    "duration": 38,
    "start_time": "2021-08-16T18:03:54.155Z"
   },
   {
    "duration": 31,
    "start_time": "2021-08-16T18:04:13.694Z"
   },
   {
    "duration": 30,
    "start_time": "2021-08-16T18:04:26.790Z"
   },
   {
    "duration": 473,
    "start_time": "2021-08-16T18:05:25.007Z"
   },
   {
    "duration": 464,
    "start_time": "2021-08-16T18:06:01.275Z"
   },
   {
    "duration": 493,
    "start_time": "2021-08-16T18:06:58.274Z"
   },
   {
    "duration": 45,
    "start_time": "2021-08-16T18:14:34.455Z"
   },
   {
    "duration": 3,
    "start_time": "2021-08-16T18:14:38.938Z"
   },
   {
    "duration": 16,
    "start_time": "2021-08-16T19:45:29.309Z"
   },
   {
    "duration": 14,
    "start_time": "2021-08-16T19:50:53.954Z"
   },
   {
    "duration": 44,
    "start_time": "2021-08-16T20:06:08.619Z"
   },
   {
    "duration": 26,
    "start_time": "2021-08-16T20:10:25.126Z"
   },
   {
    "duration": 29,
    "start_time": "2021-08-16T20:13:19.566Z"
   },
   {
    "duration": 281,
    "start_time": "2021-08-16T20:15:20.118Z"
   },
   {
    "duration": 298,
    "start_time": "2021-08-16T20:15:36.787Z"
   },
   {
    "duration": 322,
    "start_time": "2021-08-16T20:16:04.092Z"
   },
   {
    "duration": 288,
    "start_time": "2021-08-16T20:16:11.706Z"
   },
   {
    "duration": 29,
    "start_time": "2021-08-16T20:16:29.007Z"
   },
   {
    "duration": 423,
    "start_time": "2021-08-16T20:17:00.428Z"
   },
   {
    "duration": 32,
    "start_time": "2021-08-16T20:17:24.201Z"
   },
   {
    "duration": 1946,
    "start_time": "2021-08-16T20:17:41.269Z"
   },
   {
    "duration": 29,
    "start_time": "2021-08-16T20:17:43.218Z"
   },
   {
    "duration": 135,
    "start_time": "2021-08-16T20:17:43.250Z"
   },
   {
    "duration": 21,
    "start_time": "2021-08-16T20:17:43.388Z"
   },
   {
    "duration": 45,
    "start_time": "2021-08-16T20:17:43.412Z"
   },
   {
    "duration": 10,
    "start_time": "2021-08-16T20:17:43.460Z"
   },
   {
    "duration": 26,
    "start_time": "2021-08-16T20:17:43.473Z"
   },
   {
    "duration": 10,
    "start_time": "2021-08-16T20:17:43.501Z"
   },
   {
    "duration": 3351,
    "start_time": "2021-08-16T20:17:43.515Z"
   },
   {
    "duration": 2394,
    "start_time": "2021-08-16T20:17:46.868Z"
   },
   {
    "duration": 498,
    "start_time": "2021-08-16T20:17:49.265Z"
   },
   {
    "duration": 1203,
    "start_time": "2021-08-16T20:17:49.765Z"
   },
   {
    "duration": 15,
    "start_time": "2021-08-16T20:17:50.971Z"
   },
   {
    "duration": 173,
    "start_time": "2021-08-16T20:17:50.989Z"
   },
   {
    "duration": 35,
    "start_time": "2021-08-16T20:18:01.110Z"
   },
   {
    "duration": 33,
    "start_time": "2021-08-16T20:18:20.370Z"
   },
   {
    "duration": 38,
    "start_time": "2021-08-16T20:19:28.095Z"
   },
   {
    "duration": 36,
    "start_time": "2021-08-16T20:19:58.350Z"
   },
   {
    "duration": 34,
    "start_time": "2021-08-16T20:20:13.385Z"
   },
   {
    "duration": 31,
    "start_time": "2021-08-16T20:21:42.032Z"
   },
   {
    "duration": 38,
    "start_time": "2021-08-16T20:22:35.196Z"
   },
   {
    "duration": 40,
    "start_time": "2021-08-16T20:29:57.019Z"
   },
   {
    "duration": 4,
    "start_time": "2021-08-16T20:33:28.416Z"
   },
   {
    "duration": 6,
    "start_time": "2021-08-16T20:33:41.899Z"
   },
   {
    "duration": 6,
    "start_time": "2021-08-16T20:34:08.411Z"
   },
   {
    "duration": 5,
    "start_time": "2021-08-16T20:35:18.486Z"
   },
   {
    "duration": 490,
    "start_time": "2021-08-16T20:35:29.623Z"
   },
   {
    "duration": 302,
    "start_time": "2021-08-16T20:36:39.728Z"
   },
   {
    "duration": 260,
    "start_time": "2021-08-16T20:42:02.344Z"
   },
   {
    "duration": 16,
    "start_time": "2021-08-16T20:42:59.636Z"
   },
   {
    "duration": 15,
    "start_time": "2021-08-16T20:44:10.741Z"
   },
   {
    "duration": 19,
    "start_time": "2021-08-16T20:49:00.413Z"
   },
   {
    "duration": 14,
    "start_time": "2021-08-16T20:49:13.835Z"
   },
   {
    "duration": 14,
    "start_time": "2021-08-16T20:52:57.682Z"
   },
   {
    "duration": 15,
    "start_time": "2021-08-16T21:16:53.782Z"
   },
   {
    "duration": 16,
    "start_time": "2021-08-16T21:17:46.416Z"
   },
   {
    "duration": 20,
    "start_time": "2021-08-16T21:18:24.346Z"
   },
   {
    "duration": 22,
    "start_time": "2021-08-16T21:20:10.494Z"
   },
   {
    "duration": 22,
    "start_time": "2021-08-16T21:33:25.516Z"
   },
   {
    "duration": 393,
    "start_time": "2021-08-17T11:33:00.475Z"
   },
   {
    "duration": 1925,
    "start_time": "2021-08-17T11:33:06.777Z"
   },
   {
    "duration": 26,
    "start_time": "2021-08-17T11:33:08.705Z"
   },
   {
    "duration": 114,
    "start_time": "2021-08-17T11:33:08.737Z"
   },
   {
    "duration": 40,
    "start_time": "2021-08-17T11:33:08.854Z"
   },
   {
    "duration": 21,
    "start_time": "2021-08-17T11:33:08.896Z"
   },
   {
    "duration": 9,
    "start_time": "2021-08-17T11:33:08.919Z"
   },
   {
    "duration": 58,
    "start_time": "2021-08-17T11:33:08.932Z"
   },
   {
    "duration": 10,
    "start_time": "2021-08-17T11:33:08.993Z"
   },
   {
    "duration": 3242,
    "start_time": "2021-08-17T11:33:09.005Z"
   },
   {
    "duration": 2612,
    "start_time": "2021-08-17T11:33:12.250Z"
   },
   {
    "duration": 469,
    "start_time": "2021-08-17T11:33:14.865Z"
   },
   {
    "duration": 1264,
    "start_time": "2021-08-17T11:33:15.336Z"
   },
   {
    "duration": 16,
    "start_time": "2021-08-17T11:33:16.603Z"
   },
   {
    "duration": 25,
    "start_time": "2021-08-17T11:33:16.622Z"
   },
   {
    "duration": 73,
    "start_time": "2021-08-17T11:33:16.650Z"
   },
   {
    "duration": 13,
    "start_time": "2021-08-17T11:33:16.726Z"
   },
   {
    "duration": 44,
    "start_time": "2021-08-17T11:33:16.741Z"
   },
   {
    "duration": 520,
    "start_time": "2021-08-17T11:33:54.385Z"
   },
   {
    "duration": 14,
    "start_time": "2021-08-17T11:44:31.225Z"
   },
   {
    "duration": 27,
    "start_time": "2021-08-17T11:45:21.629Z"
   },
   {
    "duration": 94,
    "start_time": "2021-08-17T11:50:49.078Z"
   },
   {
    "duration": 94,
    "start_time": "2021-08-17T11:51:54.224Z"
   },
   {
    "duration": 71,
    "start_time": "2021-08-18T08:04:59.612Z"
   },
   {
    "duration": 75,
    "start_time": "2021-08-18T08:06:07.347Z"
   },
   {
    "duration": 82,
    "start_time": "2021-08-18T08:08:25.424Z"
   },
   {
    "duration": 67,
    "start_time": "2021-08-18T08:10:24.314Z"
   },
   {
    "duration": 442,
    "start_time": "2021-08-18T18:51:09.720Z"
   },
   {
    "duration": 1992,
    "start_time": "2021-08-18T18:51:19.258Z"
   },
   {
    "duration": 30,
    "start_time": "2021-08-18T18:51:21.253Z"
   },
   {
    "duration": 125,
    "start_time": "2021-08-18T18:51:21.286Z"
   },
   {
    "duration": 46,
    "start_time": "2021-08-18T18:51:21.414Z"
   },
   {
    "duration": 21,
    "start_time": "2021-08-18T18:51:21.462Z"
   },
   {
    "duration": 9,
    "start_time": "2021-08-18T18:51:21.486Z"
   },
   {
    "duration": 68,
    "start_time": "2021-08-18T18:51:21.497Z"
   },
   {
    "duration": 10,
    "start_time": "2021-08-18T18:51:21.569Z"
   },
   {
    "duration": 4019,
    "start_time": "2021-08-18T18:51:21.582Z"
   },
   {
    "duration": 2998,
    "start_time": "2021-08-18T18:51:25.604Z"
   },
   {
    "duration": 579,
    "start_time": "2021-08-18T18:51:28.606Z"
   },
   {
    "duration": 1613,
    "start_time": "2021-08-18T18:51:29.188Z"
   },
   {
    "duration": 16,
    "start_time": "2021-08-18T18:51:30.804Z"
   },
   {
    "duration": 48,
    "start_time": "2021-08-18T18:51:30.822Z"
   },
   {
    "duration": 31,
    "start_time": "2021-08-18T18:51:30.872Z"
   },
   {
    "duration": 12,
    "start_time": "2021-08-18T18:51:30.906Z"
   },
   {
    "duration": 20,
    "start_time": "2021-08-18T18:53:14.178Z"
   },
   {
    "duration": 17,
    "start_time": "2021-08-18T19:01:03.499Z"
   },
   {
    "duration": 20,
    "start_time": "2021-08-18T19:01:11.747Z"
   },
   {
    "duration": 23,
    "start_time": "2021-08-18T19:02:09.421Z"
   },
   {
    "duration": 90,
    "start_time": "2021-08-19T10:49:03.196Z"
   },
   {
    "duration": 343,
    "start_time": "2021-08-29T13:28:02.052Z"
   },
   {
    "duration": 1824,
    "start_time": "2021-08-29T13:28:09.995Z"
   },
   {
    "duration": 76,
    "start_time": "2021-08-29T13:28:11.822Z"
   },
   {
    "duration": 120,
    "start_time": "2021-08-29T13:28:11.901Z"
   },
   {
    "duration": 21,
    "start_time": "2021-08-29T13:28:12.024Z"
   },
   {
    "duration": 41,
    "start_time": "2021-08-29T13:28:12.047Z"
   },
   {
    "duration": 8,
    "start_time": "2021-08-29T13:28:12.091Z"
   },
   {
    "duration": 30,
    "start_time": "2021-08-29T13:28:12.101Z"
   },
   {
    "duration": 9,
    "start_time": "2021-08-29T13:28:12.134Z"
   },
   {
    "duration": 3214,
    "start_time": "2021-08-29T13:28:12.147Z"
   },
   {
    "duration": 2669,
    "start_time": "2021-08-29T13:28:15.364Z"
   },
   {
    "duration": 551,
    "start_time": "2021-08-29T13:28:18.036Z"
   },
   {
    "duration": 1269,
    "start_time": "2021-08-29T13:28:18.590Z"
   },
   {
    "duration": 29,
    "start_time": "2021-08-29T13:28:19.861Z"
   },
   {
    "duration": 29,
    "start_time": "2021-08-29T13:28:19.892Z"
   },
   {
    "duration": 13,
    "start_time": "2021-08-29T13:28:19.923Z"
   },
   {
    "duration": 46,
    "start_time": "2021-08-29T13:28:19.938Z"
   },
   {
    "duration": 12,
    "start_time": "2021-08-29T13:28:19.987Z"
   }
  ],
  "kernelspec": {
   "display_name": "Python 3",
   "language": "python",
   "name": "python3"
  },
  "language_info": {
   "codemirror_mode": {
    "name": "ipython",
    "version": 3
   },
   "file_extension": ".py",
   "mimetype": "text/x-python",
   "name": "python",
   "nbconvert_exporter": "python",
   "pygments_lexer": "ipython3",
   "version": "3.8.8"
  },
  "toc": {
   "base_numbering": 1,
   "nav_menu": {},
   "number_sections": true,
   "sideBar": true,
   "skip_h1_title": true,
   "title_cell": "Table of Contents",
   "title_sidebar": "Contents",
   "toc_cell": false,
   "toc_position": {},
   "toc_section_display": true,
   "toc_window_display": false
  }
 },
 "nbformat": 4,
 "nbformat_minor": 2
}
